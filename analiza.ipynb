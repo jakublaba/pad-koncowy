{
 "cells": [
  {
   "cell_type": "code",
   "execution_count": null,
   "id": "0",
   "metadata": {},
   "outputs": [],
   "source": [
    "import os\n",
    "\n",
    "import pandas as pd\n",
    "\n",
    "home = os.getenv(\"HOME\") or os.getenv(\"USERPROFILE\")\n",
    "desktop = home + \"/Desktop\"\n",
    "\n",
    "delays = pd.read_csv(f\"{desktop}/data/traffic/delays-merged.csv\")\n",
    "traffic = pd.read_csv(f\"{desktop}/data/weather/weather-merged.csv\")\n",
    "routes = pd.read_csv(f\"{desktop}/data/gtfs/2025/01/03/routes.csv\")"
   ]
  },
  {
   "cell_type": "markdown",
   "id": "1",
   "metadata": {},
   "source": [
    "# Przygotowanie danych do analizy\n",
    "## Pogoda oraz opóźnienia\n",
    "Przed przystąpieniem do analizy wstępnie oczyściliśmy i znormalizowaliśmy dane. Np. w pliku `delays-merged.csv`, wartości kolumny `Delay` typu `x min` zostały podmienione na `x`, a wartości `x min przed czasem` na `-x`.\n",
    "Połączyliśmy wszystki zebrane pliki z pogodą oraz opóźnieniami w pojedyncze pliki: `weather-merged.csv` oraz `delays-merged.csv`. Po połączeniu plików, zduplikowane linie zostały usunięte.\n",
    "Przed przystąpieniem do agregacji danych z feedu GTFS, wpierw musimy zdecydować które dane w nim zawarte są dla nas istotne.\n",
    "\n",
    "## GTFS\n",
    "Warszawski GTFS składa się z następujących plików:\n",
    "### `agency.txt`\n",
    "Ten plik zawiera dane o agencjach których dotyczy feed, ma raczej charakter licencyjny. Z punktu widzenia analizy opóźnień nie jest to istotne.\n",
    "### `calendar_dates.txt`\n",
    "Specyfikacja tego pliku jest dość skomplikowana, tak opisuje to dokumentacja:\n",
    "```\n",
    "The calendar_dates.txt table explicitly activates or disables service by date. It may be used in two ways.\n",
    "\n",
    "Recommended: Use calendar_dates.txt in conjunction with calendar.txt to define exceptions to the default service patterns defined in calendar.txt. If service is generally regular, with a few changes on explicit dates (for instance, to accommodate special event services, or a school schedule), this is a good approach. In this case calendar_dates.service_id is a foreign ID referencing calendar.service_id.\n",
    "Alternate: Omit calendar.txt, and specify each date of service in calendar_dates.txt. This allows for considerable service variation and accommodates service without normal weekly schedules. In this case service_id is an ID.\n",
    "```\n",
    "W warszawskim feedzie nie występuje `calendar.txt`, a więc `calendar_dates.txt` opisuje \"wydania\" rozkładów jazdy, tj. które dane obowiązują w jakich terminach.\n",
    "### `feed_info.txt`\n",
    "Kolejny plik o charakterze licencyjnym, zawiera informacje o podmiocie udostępniającym feed GTFS. Nieistotny z punktu widzenia analizy.\n",
    "### `routes.txt`\n",
    "Ten plik definiuje linie i charakteryzuje kilka ich podstawowych parametrów. Z punktu widzenia naszej analizy, jedyną przydatną informacją jest tutaj przypisanie `route_type` do `route_id`. Wartości `route_type` występujące w pliku oznaczają:\n",
    "- `0` - Tramwaj lub kolej krótkodystansowa\n",
    "- `1` - Metro\n",
    "- `2` - Kolej długodystansowa\n",
    "- `3` - Autobus\n",
    "\n",
    "Nie przydadzą nam się następujące dane:\n",
    "- `1` - Dane o metrze nie występują ani w tym feedzie gtfs, ani w danych o opóźnieniach"
   ]
  },
  {
   "cell_type": "code",
   "execution_count": null,
   "id": "2",
   "metadata": {},
   "outputs": [],
   "source": [
    "metro_gtfs = routes[routes[\"route_type\"] == 1]\n",
    "assert metro_gtfs.empty\n",
    "metro_delays = delays[delays[\"Route\"].str.startswith(\"M\")]\n",
    "assert metro_delays.empty"
   ]
  },
  {
   "cell_type": "markdown",
   "id": "3",
   "metadata": {},
   "source": [
    "- `2` - dane o opóźnieniach zawierają jedynie dane o WKD, podczas kiedy WKD nie występuje w GTFS\n",
    "\n",
    "**Wniosek**: Z gtfs można usunąć wszystkie dane powiązane z `route_type == 2`, z delays można usunąć wszystkie dane z `Type == \"Pociąg\"`\n",
    "Sam w sobie plik `routes.txt` nie przyda się do dalszej analizy, jedynie do zidentyfikowania danych do wyczyszczenia."
   ]
  },
  {
   "cell_type": "code",
   "execution_count": null,
   "id": "4",
   "metadata": {},
   "outputs": [],
   "source": [
    "trains_gtfs = routes[routes[\"route_type\"] == 2]\n",
    "unique_trains_gtfs = trains_gtfs[\"route_id\"].unique()\n",
    "print(f\"Pociągi w GTFS: {unique_trains_gtfs}\")\n",
    "trains_delays = delays[delays[\"Type\"] == \"Pociąg\"]\n",
    "unique_trains_delays = trains_delays[\"Route\"].unique()\n",
    "print(f\"Pociągi w delays: {unique_trains_delays}\")"
   ]
  },
  {
   "cell_type": "markdown",
   "id": "5",
   "metadata": {},
   "source": [
    "### `shapes.txt`\n",
    "Opisuje punkty na trasie, definiując tym kształty tras (stąd nazwa). Z punktu widzenia naszej analizy zbędny, współrzędne geograficzne konkretnych przystanków mamy już dostępne w `stops.txt`.\n",
    "### `stop_times.txt`\n",
    "Opisuje rozkład jazdy. W większości te dane są nam zbędne, jednak istnieją 2 ciekawe kolumny: `pickup_type` oraz `drop_off_type`. Znaczenia tych wartości (z dokumentacji gtfs):\n",
    "- `0` - Regularly scheduled pickup/dropoff, czyli zwykłe przystanki\n",
    "- `1` - No pickup/dropoff available, przykładowo nie można wsiąść na przystanku końcowym albo wysiąść na początkowym\n",
    "- `2` - Must phone agency to arrange pickup, nie występuje w tym feedzie\n"
   ]
  },
  {
   "cell_type": "code",
   "execution_count": null,
   "id": "6",
   "metadata": {},
   "outputs": [],
   "source": [
    "stop_times = pd.read_csv(f\"{desktop}/data/gtfs/2025/01/03/stop_times.csv\", low_memory=False)\n",
    "stop_times_must_phone_agency = stop_times[stop_times[\"pickup_type\"] == 2]\n",
    "assert stop_times_must_phone_agency.empty"
   ]
  },
  {
   "cell_type": "markdown",
   "id": "7",
   "metadata": {},
   "source": [
    "- `3` - Must coordinate with driver to arrange pickup/dropoff, w ten sposób oznaczane są przystanki na żądanie (obie kolumny: `pickup_type`, `drop_off_type` mają wtedy wartość `3`). \\\n",
    "Analiza wpływu obecności przystanków na żądanie na trasie na opóźnienia może być interesująca, a więc zostawiamy te dane.\n",
    "### `stops.txt`\n",
    "Zawiera podstawowe informacje o przystankach - id, nazwa, współrzędne geograficzne.\n",
    "Powiązanie nazwy przystanku z fizyczną lokalizacją może być przydatne np. do stworzenia heatmapy opóźnień.\n",
    "### `trips.csv`\n",
    "Opisuje konkretne przejazdy po liniach zdefiniowanych w `routes.txt`. Jako że nie korzystamy dalej z pliku `routes.txt`, to `trips.txt` będący jego rozszerzeniem również się nam nie przyda."
   ]
  }
 ],
 "metadata": {
  "kernelspec": {
   "display_name": "Python 3",
   "language": "python",
   "name": "python3"
  },
  "language_info": {
   "codemirror_mode": {
    "name": "ipython",
    "version": 2
   },
   "file_extension": ".py",
   "mimetype": "text/x-python",
   "name": "python",
   "nbconvert_exporter": "python",
   "pygments_lexer": "ipython2",
   "version": "2.7.6"
  }
 },
 "nbformat": 4,
 "nbformat_minor": 5
}
