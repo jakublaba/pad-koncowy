{
 "cells": [
  {
   "cell_type": "code",
   "execution_count": null,
   "id": "0",
   "metadata": {},
   "outputs": [],
   "source": [
    "import os\n",
    "from datetime import datetime, timedelta\n",
    "from typing import List\n",
    "\n",
    "import pandas as pd\n",
    "\n",
    "\n",
    "def file_paths(base_dir: str, start_date: datetime, end_date: datetime) -> List[str]:\n",
    "    paths = []\n",
    "    current_date = start_date\n",
    "    while current_date <= end_date:\n",
    "        paths.append(f\"{base_dir}/{current_date.strftime('%Y/%m/%d/delays-%H.csv')}\")\n",
    "        current_date += timedelta(hours=1)\n",
    "    return list(filter(os.path.exists, paths))\n",
    "\n",
    "\n",
    "def normalize_brigade(brigade: str) -> str:\n",
    "    return str(int(float(brigade))) if brigade.isdigit() or brigade.replace(\".0\", \"\").isdigit() else brigade\n",
    "\n",
    "\n",
    "def normalize_delay(delay: str) -> int:\n",
    "    return -int(delay.split()[0]) if \"przed czasem\" in delay else int(delay.split()[0])\n",
    "\n",
    "\n",
    "def normalize_outside(outside) -> bool:\n",
    "    return pd.notna(outside)\n",
    "\n",
    "\n",
    "paths = file_paths(\n",
    "    \"data/traffic\",\n",
    "    datetime(2024, 12, 8, 0, 0),\n",
    "    datetime(2025, 1, 2, 23)\n",
    ")\n",
    "\n",
    "df = pd.read_csv(paths[0])\n",
    "for path in paths[1:]:\n",
    "    df = pd.concat([df, pd.read_csv(path)])\n",
    "df.drop_duplicates(inplace=True)\n",
    "\n",
    "df[\"Brigade\"] = df[\"Brigade\"].astype(str).apply(normalize_brigade)\n",
    "df[\"Delay\"] = df[\"Delay\"].apply(normalize_delay)\n",
    "df[\"Outside\"] = df[\"Outside\"].apply(normalize_outside)\n",
    "\n",
    "df.to_csv(\"data/traffic/delays-merged.csv\", index=False)"
   ]
  }
 ],
 "metadata": {
  "kernelspec": {
   "display_name": "Python 3",
   "language": "python",
   "name": "python3"
  },
  "language_info": {
   "codemirror_mode": {
    "name": "ipython",
    "version": 2
   },
   "file_extension": ".py",
   "mimetype": "text/x-python",
   "name": "python",
   "nbconvert_exporter": "python",
   "pygments_lexer": "ipython2",
   "version": "2.7.6"
  }
 },
 "nbformat": 4,
 "nbformat_minor": 5
}
