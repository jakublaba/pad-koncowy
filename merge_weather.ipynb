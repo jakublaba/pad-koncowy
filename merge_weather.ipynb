{
 "cells": [
  {
   "metadata": {},
   "cell_type": "markdown",
   "source": "# Weather - data cleanup",
   "id": "8a77807f92f26ee"
  },
  {
   "metadata": {
    "ExecuteTime": {
     "end_time": "2025-01-12T19:11:37.095835Z",
     "start_time": "2025-01-12T19:11:36.533641Z"
    }
   },
   "cell_type": "code",
   "source": [
    "import glob\n",
    "import os\n",
    "\n",
    "import pandas as pd\n",
    "\n",
    "path = 'data/weather/'\n",
    "\n",
    "all_files = glob.glob(os.path.join(path, '**', '*.csv'), recursive=True)\n",
    "\n",
    "df_from_each_file = [pd.read_csv(f) for f in all_files]\n",
    "\n",
    "if df_from_each_file:\n",
    "    weather = pd.concat(df_from_each_file, ignore_index=True)\n",
    "else:\n",
    "    weather = pd.DataFrame()"
   ],
   "id": "ca233dfab29c3cc2",
   "outputs": [],
   "execution_count": 24
  },
  {
   "metadata": {
    "ExecuteTime": {
     "end_time": "2025-01-12T19:11:37.110376Z",
     "start_time": "2025-01-12T19:11:37.101845Z"
    }
   },
   "cell_type": "code",
   "source": [
    "weather['data_pomiaru'] = pd.to_datetime(weather['data_pomiaru'])\n",
    "weather['godzina_pomiaru'] = weather['godzina_pomiaru'].astype(str).str.zfill(2) + ':00:00'\n",
    "\n",
    "weather['timestamp'] = pd.to_datetime(weather['data_pomiaru'].astype(str) + ' ' + weather['godzina_pomiaru'])\n",
    "\n",
    "weather.drop(columns=['data_pomiaru', 'godzina_pomiaru'], inplace=True)"
   ],
   "id": "52b67c2680e1fca4",
   "outputs": [],
   "execution_count": 25
  },
  {
   "metadata": {
    "ExecuteTime": {
     "end_time": "2025-01-12T19:11:37.128949Z",
     "start_time": "2025-01-12T19:11:37.124889Z"
    }
   },
   "cell_type": "code",
   "source": [
    "weather['temperatura'] = pd.to_numeric(weather['temperatura'], errors='coerce')\n",
    "weather['predkosc_wiatru'] = pd.to_numeric(weather['predkosc_wiatru'], errors='coerce')\n",
    "weather['wilgotnosc_wzgledna'] = pd.to_numeric(weather['wilgotnosc_wzgledna'], errors='coerce')\n",
    "weather['suma_opadu'] = pd.to_numeric(weather['suma_opadu'], errors='coerce')\n",
    "weather['cisnienie'] = pd.to_numeric(weather['cisnienie'], errors='coerce')"
   ],
   "id": "727080b52bae399",
   "outputs": [],
   "execution_count": 26
  },
  {
   "metadata": {
    "ExecuteTime": {
     "end_time": "2025-01-12T19:11:37.151858Z",
     "start_time": "2025-01-12T19:11:37.142844Z"
    }
   },
   "cell_type": "code",
   "source": "weather.to_csv('data/weather/weather-merged.csv', index=False)",
   "id": "9e47e1d53c54b19a",
   "outputs": [],
   "execution_count": 27
  }
 ],
 "metadata": {
  "kernelspec": {
   "display_name": "Python 3",
   "language": "python",
   "name": "python3"
  },
  "language_info": {
   "codemirror_mode": {
    "name": "ipython",
    "version": 2
   },
   "file_extension": ".py",
   "mimetype": "text/x-python",
   "name": "python",
   "nbconvert_exporter": "python",
   "pygments_lexer": "ipython2",
   "version": "2.7.6"
  }
 },
 "nbformat": 4,
 "nbformat_minor": 5
}
