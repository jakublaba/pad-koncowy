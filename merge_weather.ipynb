{
 "cells": [
  {
   "cell_type": "markdown",
   "id": "0",
   "metadata": {},
   "source": [
    "# Weather - data cleanup"
   ]
  },
  {
   "cell_type": "code",
   "execution_count": null,
   "id": "1",
   "metadata": {},
   "outputs": [],
   "source": [
    "import glob\n",
    "import os\n",
    "\n",
    "import pandas as pd\n",
    "\n",
    "path = 'data/weather/'\n",
    "\n",
    "all_files = glob.glob(os.path.join(path, '**', '*.csv'), recursive=True)\n",
    "\n",
    "df_from_each_file = [pd.read_csv(f) for f in all_files]\n",
    "\n",
    "if df_from_each_file:\n",
    "    weather = pd.concat(df_from_each_file, ignore_index=True)\n",
    "else:\n",
    "    weather = pd.DataFrame()"
   ]
  },
  {
   "cell_type": "code",
   "execution_count": null,
   "id": "2",
   "metadata": {},
   "outputs": [],
   "source": [
    "weather['data_pomiaru'] = pd.to_datetime(weather['data_pomiaru'])\n",
    "weather['godzina_pomiaru'] = weather['godzina_pomiaru'].astype(str).str.zfill(2) + ':00:00'\n",
    "\n",
    "weather['timestamp'] = pd.to_datetime(weather['data_pomiaru'].astype(str) + ' ' + weather['godzina_pomiaru'])\n",
    "\n",
    "weather.drop(columns=['data_pomiaru', 'godzina_pomiaru'], inplace=True)"
   ]
  },
  {
   "cell_type": "code",
   "execution_count": null,
   "id": "3",
   "metadata": {},
   "outputs": [],
   "source": [
    "weather['temperatura'] = pd.to_numeric(weather['temperatura'], errors='coerce')\n",
    "weather['predkosc_wiatru'] = pd.to_numeric(weather['predkosc_wiatru'], errors='coerce')\n",
    "weather['wilgotnosc_wzgledna'] = pd.to_numeric(weather['wilgotnosc_wzgledna'], errors='coerce')\n",
    "weather['suma_opadu'] = pd.to_numeric(weather['suma_opadu'], errors='coerce')\n",
    "weather['cisnienie'] = pd.to_numeric(weather['cisnienie'], errors='coerce')"
   ]
  },
  {
   "cell_type": "code",
   "execution_count": null,
   "id": "4",
   "metadata": {},
   "outputs": [],
   "source": [
    "weather.to_csv('data/weather/weather-merged.csv', index=False)"
   ]
  }
 ],
 "metadata": {
  "kernelspec": {
   "display_name": "Python 3",
   "language": "python",
   "name": "python3"
  },
  "language_info": {
   "codemirror_mode": {
    "name": "ipython",
    "version": 2
   },
   "file_extension": ".py",
   "mimetype": "text/x-python",
   "name": "python",
   "nbconvert_exporter": "python",
   "pygments_lexer": "ipython2",
   "version": "2.7.6"
  }
 },
 "nbformat": 4,
 "nbformat_minor": 5
}
